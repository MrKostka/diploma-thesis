{
  "nbformat": 4,
  "nbformat_minor": 0,
  "metadata": {
    "colab": {
      "name": "mnist_experiments.ipynb",
      "provenance": [],
      "collapsed_sections": []
    },
    "kernelspec": {
      "name": "python3",
      "display_name": "Python 3"
    },
    "language_info": {
      "name": "python"
    }
  },
  "cells": [
    {
      "cell_type": "code",
      "execution_count": null,
      "metadata": {
        "id": "kAZzqywzeUhL",
        "colab": {
          "base_uri": "https://localhost:8080/"
        },
        "outputId": "ba92bab9-9983-48e1-f6a5-14ac70d778fc"
      },
      "outputs": [
        {
          "output_type": "stream",
          "name": "stdout",
          "text": [
            "Mounted at /content/gdrive\n"
          ]
        }
      ],
      "source": [
        "import os\n",
        "import numpy as np\n",
        "import time\n",
        "import cv2\n",
        "import pathlib\n",
        "import tensorflow as tf\n",
        "from tensorflow import keras\n",
        "from keras import layers\n",
        "from keras.preprocessing.image import ImageDataGenerator\n",
        "from keras.callbacks import EarlyStopping\n",
        "from keras.callbacks import ReduceLROnPlateau\n",
        "from google.colab import drive\n",
        "from google.colab.patches import cv2_imshow\n",
        "from skimage import transform, measure, io, color, filters\n",
        "from skimage import  measure as skm\n",
        "import matplotlib\n",
        "import matplotlib.pyplot as plt\n",
        "import itertools\n",
        "from sklearn.metrics import confusion_matrix\n",
        "from sklearn import metrics\n",
        "# import splitfolders\n",
        "\n",
        "\n",
        "\n",
        "drive.mount('/content/gdrive')\n",
        "DATASET_NAME = 'mnist'"
      ]
    },
    {
      "cell_type": "code",
      "source": [
        "num_classes = 10\n",
        "input_shape = (28, 28, 1)\n",
        "\n",
        "(x_train,y_train),(x_test,y_test)=keras.datasets.mnist.load_data()\n",
        "\n",
        "x_train = x_train.astype(\"float32\") / 255\n",
        "x_test = x_test.astype(\"float32\") / 255\n",
        "\n",
        "x_train = np.expand_dims(x_train, -1)\n",
        "x_test = np.expand_dims(x_test, -1)\n",
        "\n",
        "y_train = keras.utils.to_categorical(y_train, num_classes)\n",
        "y_test = keras.utils.to_categorical(y_test, num_classes)"
      ],
      "metadata": {
        "id": "Sn0Q5KhofBGj",
        "colab": {
          "base_uri": "https://localhost:8080/"
        },
        "outputId": "e32c3e9f-df3c-48be-9de7-f66e697e855a"
      },
      "execution_count": null,
      "outputs": [
        {
          "output_type": "stream",
          "name": "stdout",
          "text": [
            "Downloading data from https://storage.googleapis.com/tensorflow/tf-keras-datasets/mnist.npz\n",
            "11493376/11490434 [==============================] - 0s 0us/step\n",
            "11501568/11490434 [==============================] - 0s 0us/step\n"
          ]
        }
      ]
    },
    {
      "cell_type": "code",
      "source": [
        "model = keras.Sequential(\n",
        "    [\n",
        "      keras.Input(shape=input_shape),\n",
        "      layers.Conv2D(32, kernel_size=(3,3), padding='same', activation='relu'),\n",
        "      layers.MaxPooling2D(pool_size=(2,2)),\n",
        "      layers.Conv2D(64, kernel_size=(3,3), padding='same',activation='relu'),\n",
        "      layers.MaxPooling2D(pool_size=(2,2)),\n",
        "      layers.Flatten(),\n",
        "      layers.Dropout(0.5),\n",
        "      layers.Dense(num_classes, activation='softmax'),\n",
        "    ]\n",
        ")\n",
        "\n",
        "model.summary()"
      ],
      "metadata": {
        "id": "p5QN6FaTfA-h",
        "colab": {
          "base_uri": "https://localhost:8080/"
        },
        "outputId": "2e0a9fdc-20ac-4c4e-989a-ac8fae3f5489"
      },
      "execution_count": null,
      "outputs": [
        {
          "output_type": "stream",
          "name": "stdout",
          "text": [
            "Model: \"sequential\"\n",
            "_________________________________________________________________\n",
            " Layer (type)                Output Shape              Param #   \n",
            "=================================================================\n",
            " conv2d (Conv2D)             (None, 28, 28, 32)        320       \n",
            "                                                                 \n",
            " max_pooling2d (MaxPooling2D  (None, 14, 14, 32)       0         \n",
            " )                                                               \n",
            "                                                                 \n",
            " conv2d_1 (Conv2D)           (None, 14, 14, 64)        18496     \n",
            "                                                                 \n",
            " max_pooling2d_1 (MaxPooling  (None, 7, 7, 64)         0         \n",
            " 2D)                                                             \n",
            "                                                                 \n",
            " flatten (Flatten)           (None, 3136)              0         \n",
            "                                                                 \n",
            " dropout (Dropout)           (None, 3136)              0         \n",
            "                                                                 \n",
            " dense (Dense)               (None, 10)                31370     \n",
            "                                                                 \n",
            "=================================================================\n",
            "Total params: 50,186\n",
            "Trainable params: 50,186\n",
            "Non-trainable params: 0\n",
            "_________________________________________________________________\n"
          ]
        }
      ]
    },
    {
      "cell_type": "code",
      "source": [
        "model.compile(loss='categorical_crossentropy', \n",
        "              optimizer='adam', metrics=['accuracy'])\n",
        "\n",
        "history = model.fit(x_train, y_train, batch_size=128, \n",
        "                    epochs=15, validation_split=0.1)\n",
        "\n",
        "model.save('/content/gdrive/MyDrive/diplomovka/models/' + time.strftime(\"model_%Y_%m_%d_%H_%M\") + '_{}'.format(DATASET_NAME))"
      ],
      "metadata": {
        "id": "hKBufEN-m2GV",
        "colab": {
          "base_uri": "https://localhost:8080/"
        },
        "outputId": "fe1b5684-8bf5-4cb3-a301-744a4e052b44"
      },
      "execution_count": null,
      "outputs": [
        {
          "output_type": "stream",
          "name": "stdout",
          "text": [
            "Epoch 1/15\n",
            "422/422 [==============================] - 70s 164ms/step - loss: 0.3317 - accuracy: 0.9003 - val_loss: 0.0836 - val_accuracy: 0.9778\n",
            "Epoch 2/15\n",
            "422/422 [==============================] - 65s 154ms/step - loss: 0.1050 - accuracy: 0.9684 - val_loss: 0.0567 - val_accuracy: 0.9840\n",
            "Epoch 3/15\n",
            "422/422 [==============================] - 64s 151ms/step - loss: 0.0790 - accuracy: 0.9759 - val_loss: 0.0459 - val_accuracy: 0.9877\n",
            "Epoch 4/15\n",
            "422/422 [==============================] - 63s 149ms/step - loss: 0.0650 - accuracy: 0.9798 - val_loss: 0.0431 - val_accuracy: 0.9868\n",
            "Epoch 5/15\n",
            "422/422 [==============================] - 62s 148ms/step - loss: 0.0571 - accuracy: 0.9822 - val_loss: 0.0387 - val_accuracy: 0.9892\n",
            "Epoch 6/15\n",
            "422/422 [==============================] - 62s 146ms/step - loss: 0.0515 - accuracy: 0.9835 - val_loss: 0.0337 - val_accuracy: 0.9905\n",
            "Epoch 7/15\n",
            "422/422 [==============================] - 63s 150ms/step - loss: 0.0469 - accuracy: 0.9854 - val_loss: 0.0342 - val_accuracy: 0.9900\n",
            "Epoch 8/15\n",
            "422/422 [==============================] - 61s 144ms/step - loss: 0.0454 - accuracy: 0.9855 - val_loss: 0.0330 - val_accuracy: 0.9913\n",
            "Epoch 9/15\n",
            "422/422 [==============================] - 76s 181ms/step - loss: 0.0394 - accuracy: 0.9872 - val_loss: 0.0343 - val_accuracy: 0.9908\n",
            "Epoch 10/15\n",
            "422/422 [==============================] - 92s 218ms/step - loss: 0.0393 - accuracy: 0.9873 - val_loss: 0.0286 - val_accuracy: 0.9920\n",
            "Epoch 11/15\n",
            "422/422 [==============================] - 90s 213ms/step - loss: 0.0364 - accuracy: 0.9886 - val_loss: 0.0289 - val_accuracy: 0.9933\n",
            "Epoch 12/15\n",
            "422/422 [==============================] - 89s 211ms/step - loss: 0.0358 - accuracy: 0.9886 - val_loss: 0.0308 - val_accuracy: 0.9915\n",
            "Epoch 13/15\n",
            "422/422 [==============================] - 88s 210ms/step - loss: 0.0344 - accuracy: 0.9887 - val_loss: 0.0270 - val_accuracy: 0.9925\n",
            "Epoch 14/15\n",
            "422/422 [==============================] - 90s 212ms/step - loss: 0.0312 - accuracy: 0.9897 - val_loss: 0.0303 - val_accuracy: 0.9920\n",
            "Epoch 15/15\n",
            "422/422 [==============================] - 89s 210ms/step - loss: 0.0316 - accuracy: 0.9895 - val_loss: 0.0287 - val_accuracy: 0.9923\n",
            "INFO:tensorflow:Assets written to: /content/gdrive/MyDrive/diplomovka/models/model_2022_04_18_19_38_mnist/assets\n"
          ]
        }
      ]
    },
    {
      "cell_type": "markdown",
      "source": [
        "**Načítanie uloženého modelu**"
      ],
      "metadata": {
        "id": "3VVcjZRVhC8s"
      }
    },
    {
      "cell_type": "code",
      "source": [
        "model = keras.models.load_model('/content/gdrive/MyDrive/diplomovka/models/model_2022_04_18_19_38_mnist')"
      ],
      "metadata": {
        "id": "UHt3RcYrDaoV"
      },
      "execution_count": null,
      "outputs": []
    },
    {
      "cell_type": "code",
      "source": [
        "score = model.evaluate(x_test, y_test, verbose=1)"
      ],
      "metadata": {
        "id": "kqHVnkP0rvNs",
        "colab": {
          "base_uri": "https://localhost:8080/"
        },
        "outputId": "eefc5568-9a1e-4112-c132-8a53154f0154"
      },
      "execution_count": null,
      "outputs": [
        {
          "output_type": "stream",
          "name": "stdout",
          "text": [
            "313/313 [==============================] - 5s 14ms/step - loss: 0.0256 - accuracy: 0.9917\n"
          ]
        }
      ]
    },
    {
      "cell_type": "code",
      "source": [
        "test_prediction = model.predict(x_test)"
      ],
      "metadata": {
        "id": "HpueJQj3R1Iz"
      },
      "execution_count": null,
      "outputs": []
    },
    {
      "cell_type": "code",
      "source": [
        "# short script from https://www.kaggle.com/code/yassineghouzam/introduction-to-cnn-keras-0-997-top-6#4.-Evaluate-the-model\n",
        "\n",
        "# Look at confusion matrix \n",
        "\n",
        "\n",
        "def plot_confusion_matrix(cm, classes,\n",
        "                          normalize=False,\n",
        "                          title='Konfúzna matica',\n",
        "                          cmap=plt.cm.Blues):\n",
        "    \"\"\"\n",
        "    This function prints and plots the confusion matrix.\n",
        "    Normalization can be applied by setting `normalize=True`.\n",
        "    \"\"\"\n",
        "    \n",
        "    _plt = plt.figure(figsize=(10,10))\n",
        "    plt.imshow(cm, interpolation='nearest', cmap=cmap)\n",
        "    plt.title(title)\n",
        "    plt.colorbar()\n",
        "    tick_marks = np.arange(len(classes))\n",
        "    plt.xticks(tick_marks, classes, rotation=45)\n",
        "    plt.yticks(tick_marks, classes)\n",
        "\n",
        "    if normalize:\n",
        "        cm = cm.astype('float') / cm.sum(axis=1)[:, np.newaxis]\n",
        "\n",
        "    thresh = cm.max() / 2.\n",
        "    for i, j in itertools.product(range(cm.shape[0]), range(cm.shape[1])):\n",
        "        plt.text(j, i, cm[i, j],\n",
        "                 horizontalalignment=\"center\",\n",
        "                 color=\"white\" if cm[i, j] > thresh else \"black\")\n",
        "\n",
        "    plt.tight_layout()\n",
        "    plt.ylabel('Skutočné hodnoty')\n",
        "    plt.xlabel('Predikované hodnoty')\n",
        "\n",
        "# Predict the values from the validation dataset\n",
        "Y_pred = model.predict(x_test)\n",
        "# Convert predictions classes to one hot vectors \n",
        "Y_pred_classes = np.argmax(Y_pred,axis = 1) \n",
        "# Convert validation observations to one hot vectors\n",
        "Y_true = np.argmax(y_test,axis = 1) \n",
        "# compute the confusion matrix\n",
        "confusion_mtx = confusion_matrix(Y_true, Y_pred_classes) \n",
        "# plot the confusion matrix\n",
        "plot_confusion_matrix(confusion_mtx, classes = range(10)) "
      ],
      "metadata": {
        "colab": {
          "base_uri": "https://localhost:8080/",
          "height": 729
        },
        "id": "aNFpx4-MIa5D",
        "outputId": "3d078c82-2e3a-451e-d435-5d4ed7e42fc5"
      },
      "execution_count": null,
      "outputs": [
        {
          "output_type": "display_data",
          "data": {
            "text/plain": [
              "<Figure size 720x720 with 2 Axes>"
            ],
            "image/png": "[encoded data removed]"
          },
          "metadata": {
            "needs_background": "light"
          }
        }
      ]
    },
    {
      "cell_type": "code",
      "source": [
        "\n",
        "\n",
        "plt_1 = plt.figure(figsize=(12,3))\n",
        "\n",
        "#-----------------------------------------------------------\n",
        "# Retrieve a list of list results on training and test data\n",
        "# sets for each training epoch\n",
        "#-----------------------------------------------------------\n",
        "acc = history.history['accuracy']\n",
        "val_acc = history.history[ 'val_accuracy']\n",
        "loss = history.history['loss']\n",
        "val_loss = history.history['val_loss']\n",
        "\n",
        "epochs   = range(len(acc)) # Get number of epochs\n",
        "#------------------------------------------------\n",
        "# Plot training and validation accuracy per epoch\n",
        "#------------------------------------------------\n",
        "plt.subplot(1, 2, 1)\n",
        "plt.plot(epochs, acc)\n",
        "plt.plot(epochs, val_acc)\n",
        "plt.title('Priebeh trénovacej a validačnej presnosti')\n",
        "plt.xlabel('epochy')\n",
        "plt.ylabel('presnosť')\n",
        "plt.legend(['Trénovacie dáta', 'Validačné dáta'])\n",
        "#------------------------------------------------\n",
        "# Plot training and validation loss per epoch\n",
        "#------------------------------------------------\n",
        "plt.subplot(1, 2, 2)\n",
        "plt.plot(epochs, loss)\n",
        "plt.plot(epochs, val_loss)\n",
        "plt.title('Priebeh trénovacej a validačnej loss funkcie')\n",
        "plt.xlabel('epochy')\n",
        "plt.ylabel('loss')\n",
        "plt.legend(['Trénovacie dáta', 'Validačné dáta'])\n",
        "\n",
        "plt.show()"
      ],
      "metadata": {
        "colab": {
          "base_uri": "https://localhost:8080/",
          "height": 241
        },
        "id": "LFXxZ9cZNOXQ",
        "outputId": "269b0382-71b4-4b52-ad5b-3dfe8c62e088"
      },
      "execution_count": null,
      "outputs": [
        {
          "output_type": "display_data",
          "data": {
            "text/plain": [
              "<Figure size 864x216 with 2 Axes>"
            ],
            "image/png": "[encoded data removed]"
          },
          "metadata": {
            "needs_background": "light"
          }
        }
      ]
    },
    {
      "cell_type": "markdown",
      "source": [
        "**Spracovanie vstupu a výstupu prvej konvolučnej vrstvy**"
      ],
      "metadata": {
        "id": "FUfpqxznhJyh"
      }
    },
    {
      "cell_type": "code",
      "source": [
        "\n",
        "foo = [9753, 145, 456, 51, 4, 8, 123, 17, 879, 212]\n",
        "\n",
        "plt_2 = plt.figure(figsize=(10,4))\n",
        "\n",
        "counter = 1\n",
        "for _ in range(2):\n",
        "    for _ in range(5):\n",
        "        # specify subplot and turn of axis\n",
        "        ax = plt.subplot(2, 5, counter)\n",
        "        plt.title(str(np.argmax(y_test[foo[counter-1]])))\n",
        "        # str(y_test[foo[counter-1]])\n",
        "        ax.set_xticks([])\n",
        "        ax.set_yticks([])\n",
        "        plt.imshow(np.squeeze(x_test[foo[counter-1]], axis=2))\n",
        "        counter += 1"
      ],
      "metadata": {
        "colab": {
          "base_uri": "https://localhost:8080/",
          "height": 265
        },
        "id": "2mS5GrG_BTMo",
        "outputId": "573ab70e-1adf-4942-b931-669336b02776"
      },
      "execution_count": null,
      "outputs": [
        {
          "output_type": "display_data",
          "data": {
            "text/plain": [
              "<Figure size 720x288 with 10 Axes>"
            ],
            "image/png": "[encoded data removed]"
          },
          "metadata": {}
        }
      ]
    },
    {
      "cell_type": "markdown",
      "source": [
        "**Kontrola predikcie referenčných obrázkov**"
      ],
      "metadata": {
        "id": "_IpzvcDBzYV0"
      }
    },
    {
      "cell_type": "code",
      "source": [
        "for idx in [9753, 145, 456, 51, 4, 8, 123, 17, 879, 212]:\n",
        "    foo = np.expand_dims(x_test[idx], axis=0)\n",
        "    bar = y_test[idx].reshape((1,10))\n",
        "    print(idx)\n",
        "    print(bar)    \n",
        "    y_tensor = tf.convert_to_tensor(bar, dtype=tf.float32) \n",
        "    model.evaluate(foo , y_tensor)[0]"
      ],
      "metadata": {
        "colab": {
          "base_uri": "https://localhost:8080/"
        },
        "id": "SfIko7C2y_5v",
        "outputId": "6d38d01b-d469-460f-a7f0-168811df1490"
      },
      "execution_count": null,
      "outputs": [
        {
          "output_type": "stream",
          "name": "stdout",
          "text": [
            "9753\n",
            "[[1. 0. 0. 0. 0. 0. 0. 0. 0. 0.]]\n",
            "1/1 [==============================] - 1s 573ms/step - loss: 2.9023e-04 - accuracy: 1.0000\n",
            "145\n",
            "[[0. 1. 0. 0. 0. 0. 0. 0. 0. 0.]]\n",
            "1/1 [==============================] - 0s 17ms/step - loss: 5.1342e-04 - accuracy: 1.0000\n",
            "456\n",
            "[[0. 0. 1. 0. 0. 0. 0. 0. 0. 0.]]\n",
            "1/1 [==============================] - 0s 16ms/step - loss: 5.5073e-05 - accuracy: 1.0000\n",
            "51\n",
            "[[0. 0. 0. 1. 0. 0. 0. 0. 0. 0.]]\n",
            "1/1 [==============================] - 0s 15ms/step - loss: 1.1921e-07 - accuracy: 1.0000\n",
            "4\n",
            "[[0. 0. 0. 0. 1. 0. 0. 0. 0. 0.]]\n",
            "1/1 [==============================] - 0s 24ms/step - loss: 1.1802e-05 - accuracy: 1.0000\n",
            "8\n",
            "[[0. 0. 0. 0. 0. 1. 0. 0. 0. 0.]]\n",
            "1/1 [==============================] - 0s 15ms/step - loss: 0.0088 - accuracy: 1.0000\n",
            "123\n",
            "[[0. 0. 0. 0. 0. 0. 1. 0. 0. 0.]]\n",
            "1/1 [==============================] - 0s 16ms/step - loss: 4.7684e-07 - accuracy: 1.0000\n",
            "17\n",
            "[[0. 0. 0. 0. 0. 0. 0. 1. 0. 0.]]\n",
            "1/1 [==============================] - 0s 21ms/step - loss: 8.5830e-06 - accuracy: 1.0000\n",
            "879\n",
            "[[0. 0. 0. 0. 0. 0. 0. 0. 1. 0.]]\n",
            "1/1 [==============================] - 0s 18ms/step - loss: 4.2915e-06 - accuracy: 1.0000\n",
            "212\n",
            "[[0. 0. 0. 0. 0. 0. 0. 0. 0. 1.]]\n",
            "1/1 [==============================] - 0s 19ms/step - loss: 2.3842e-07 - accuracy: 1.0000\n"
          ]
        }
      ]
    },
    {
      "cell_type": "code",
      "source": [
        "class FeatureMapsFusion():\n",
        "    def __init__(self, input_image=None, label=None, trained_model=None, weight_option=None, lfd_type_2=True):\n",
        "        \"\"\"Creates final fused image\n",
        "        Aggregation function: - expected values = ['entropy', 'loss_function_deviation', 'rectified_loss_function_deviation'].\n",
        "        \"\"\"\n",
        "        self.input_image=input_image\n",
        "        self.label=label\n",
        "        self.trained_model=trained_model\n",
        "        self.aggregation_function=None\n",
        "        self.weight_option=weight_option\n",
        "        self.measure=None\n",
        "        self.lfd_type_2=lfd_type_2\n",
        "\n",
        "        self.loss_to_compare = trained_model.evaluate(input_image, label)[0]\n",
        "        self.input_shape = (input_image.shape[1], input_image.shape[2])\n",
        "\n",
        "        self.feature_maps = []\n",
        "        self.feature_maps_dict = {}\n",
        "        self.weights={}\n",
        "\n",
        "        if not weight_option in ['entropy', 'loss_function_deviation']:\n",
        "            raise ValueError('Not appropriate aggregation function name!')\n",
        "\n",
        "        self._get_feature_maps_and_weights()\n",
        "        self._normalize_weights()\n",
        "        self._sort_weights_and_feature_maps()\n",
        "        self._normalize_feature_maps()\n",
        "\n",
        "    def _get_feature_maps_and_weights(self):     \n",
        "\n",
        "        if self.weight_option == 'entropy':\n",
        "            print('using entropy')\n",
        "            layer_outputs = [layer.output for layer in self.trained_model.layers if 'conv2d' in layer.name]\n",
        "            feature_map_model = tf.keras.models.Model(inputs=self.trained_model.input, outputs=layer_outputs)\n",
        "\n",
        "            feature_maps = feature_map_model.predict(self.input_image) \n",
        "\n",
        "            for img_stack in feature_maps:\n",
        "                foo = np.squeeze(img_stack, axis=0)\n",
        "                foo = np.transpose(foo, axes=[2,0,1])\n",
        "                foo = list(foo)\n",
        "\n",
        "                ratio = self.input_shape[0] // foo[0].shape[0] #just one axis\n",
        "\n",
        "                feature_maps_length = len(self.feature_maps)\n",
        "\n",
        "                #resize feature map if is needed\n",
        "                for idx, img in enumerate(foo):\n",
        "                    if not ratio == 1:                 \n",
        "                             \n",
        "                        img = np.repeat(img, ratio, axis=0)\n",
        "                        img = np.repeat(img, ratio, axis=1)\n",
        "                        img = transform.resize(img, self.input_shape, anti_aliasing=False, order=2)\n",
        "                    self.feature_maps.append(img)\n",
        "\n",
        "                    #entropy calculation\n",
        "                    self.weights[idx + feature_maps_length] = measure.shannon_entropy(img)\n",
        "              \n",
        "        else:            \n",
        "            print('using loss function deviation')\n",
        "            for idx, layer in enumerate(self.trained_model.layers):\n",
        "                if 'conv2d' in layer.name:\n",
        "                    \n",
        "                    #splitting model\n",
        "                    head_model_input = keras.Input(self.trained_model.layers[0].input_shape[1:])\n",
        "                    head_model = head_model_input \n",
        "                    for _layer in self.trained_model.layers[0:idx+1]:\n",
        "                        head_model = _layer(head_model)\n",
        "                    head_model = keras.Model(inputs=head_model_input, outputs=head_model)\n",
        "                    head_model.compile(loss=self.trained_model.loss, optimizer=self.trained_model.optimizer,metrics=self.trained_model.metrics)\n",
        "\n",
        "                    tail_model_input = keras.Input(self.trained_model.layers[idx+1].input_shape[1:])\n",
        "                    tail_model = tail_model_input\n",
        "                    for _layer in self.trained_model.layers[idx+1:]:\n",
        "                        tail_model = _layer(tail_model)\n",
        "                    tail_model = keras.Model(inputs=tail_model_input, outputs=tail_model)\n",
        "                    tail_model.compile(loss=self.trained_model.loss, optimizer=self.trained_model.optimizer.get_config()['name'],metrics=[self.trained_model.metrics[1].get_config()['name']])\n",
        "\n",
        "                    input_data = self.input_image\n",
        "\n",
        "                    conv_results = head_model.predict(input_data)\n",
        "                    conv_results = np.squeeze(conv_results, axis=0)\n",
        "                    conv_results = np.transpose(conv_results, axes=[2,0,1])\n",
        "                    conv_results = list(conv_results)\n",
        "\n",
        "                    dummy_copy = conv_results.copy()\n",
        "\n",
        "                    conv_results_length = len(conv_results)    \n",
        "                    ratio = self.input_shape[0] // conv_results[0].shape[0]                     \n",
        "\n",
        "                    for _index in range(0, conv_results_length):\n",
        "                        if self.lfd_type_2:         \n",
        "                            conv_results_copy = np.zeros((conv_results_length, *dummy_copy[0].shape), dtype=np.float32)\n",
        "                            conv_results_copy[_index] = conv_results[_index].copy()\n",
        "                            conv_results_copy = np.transpose(conv_results_copy, axes=[1,2,0])\n",
        "                            conv_results_copy = np.expand_dims(conv_results_copy, axis=0)  \n",
        "                        else:\n",
        "                            conv_results_copy = dummy_copy.copy()\n",
        "                            conv_results_copy.pop(_index)\n",
        "                            conv_results_copy.insert(_index, np.zeros(dummy_copy[0].shape, dtype=np.float32))\n",
        "                            conv_results_copy = np.array(conv_results_copy)\n",
        "                            conv_results_copy = np.transpose(conv_results_copy, axes=[1,2,0])\n",
        "                            conv_results_copy = np.expand_dims(conv_results_copy, axis=0)    \n",
        "                                                  \n",
        "                        evaluation = tail_model.evaluate(conv_results_copy, self.label)                       \n",
        "\n",
        "                        if self.weight_option == 'loss_function_deviation':\n",
        "                            self.weights[_index+len(self.feature_maps)] = evaluation[0] - self.loss_to_compar\n",
        "\n",
        "                        #resize\n",
        "                        if not ratio == 1:\n",
        "                            img = conv_results[_index].copy()\n",
        "                            img = np.repeat(img, ratio, axis=0)\n",
        "                            img = np.repeat(img, ratio, axis=1)\n",
        "                            img = transform.resize(img, self.input_shape, anti_aliasing=False, order=2)\n",
        "                            conv_results[_index] = img  \n",
        "          \n",
        "                    self.feature_maps.extend(conv_results)\n",
        "\n",
        "        self.feature_maps_dict = dict(zip(range(len(self.feature_maps)), self.feature_maps)) \n",
        "\n",
        "    def _sort_weights_and_feature_maps(self):\n",
        "        print('feature maps and weights sorting')\n",
        "        my_dict = dict(sorted(self.weights.items(), reverse=True, key=lambda item: item[1]))\n",
        "\n",
        "        ordered_images = []\n",
        "        ordered_images_dict = {}\n",
        "\n",
        "        for k,v in my_dict.items():\n",
        "            ordered_images.append(self.feature_maps_dict[k])  \n",
        "            ordered_images_dict[k] = self.feature_maps_dict[k]\n",
        "\n",
        "        self.feature_maps = ordered_images\n",
        "        self.feature_maps_dict = ordered_images_dict\n",
        "        self.weights = my_dict\n",
        "\n",
        "    def _normalize_weights(self):\n",
        "        print('weights normalization')\n",
        "        all_values = list(self.weights.values())\n",
        "        max_value = np.max(np.array(all_values))\n",
        "        min_value = np.min(np.array(all_values))\n",
        "\n",
        "        for k,v in self.weights.items():\n",
        "            foo = self.weights[k]\n",
        "            foo = (foo - min_value) / (max_value - min_value)\n",
        "            if not self.lfd_type_2:\n",
        "                self.weights[k] = foo      \n",
        "            else:\n",
        "                self.weights[k] = 1.0 - foo\n",
        "\n",
        "    def _normalize_feature_maps(self):\n",
        "        print('feature maps normalization')\n",
        "        max = 0\n",
        "        min = np.inf\n",
        "        for value in self.feature_maps:\n",
        "            if np.max(value) > max:\n",
        "                max = np.max(value)\n",
        "            if np.min(value) < min:\n",
        "                min = np.min(value)\n",
        "        self.feature_maps = np.array([(value - min) / (max - min) for value in self.feature_maps])\n",
        "\n",
        "        new_dict = {}\n",
        "        for key, value in self.feature_maps_dict.items():\n",
        "            new_dict[key] = (value - min) / (max - min)\n",
        "\n",
        "        self.feature_maps_dict = new_dict        \n",
        "\n",
        "    def additive_measure(self, data):\n",
        "        return sum(data)\n",
        "\n",
        "    def average_measure(self, data):\n",
        "        return sum(data)/len(data)\n",
        "\n",
        "    def possibility_measure(self, data):\n",
        "        return np.amax(data, axis=0)    \n",
        "\n",
        "    def distorted_measure(self, data):\n",
        "        return sum(data) ** 2\n",
        "\n",
        "    def choquet_integral(self):\n",
        "        \n",
        "        summary = np.zeros(self.input_shape)\n",
        "\n",
        "        for k in range(0, len(self.feature_maps) - 1):\n",
        "            summary = summary + (self.weights[k] - self.weights[k+1] ) * self.measure(self.feature_maps[:k+1])\n",
        "\n",
        "        summary = summary + self.weights[len(self.weights)-1] * self.measure(self.feature_maps)       \n",
        "\n",
        "        return summary \n",
        "\n",
        "    def own_integral(self):\n",
        "        \n",
        "        summary = np.zeros(self.input_shape)\n",
        "\n",
        "        for k in range(0, len(self.feature_maps)):\n",
        "            summary = summary + self.weights[k] * self.measure(self.feature_maps[:k+1])\n",
        " \n",
        "        return summary \n",
        "\n",
        "    def sugeno_integral(self):\n",
        "        \n",
        "        weights = list(self.weights.values())\n",
        "        feature_maps = list(self.feature_maps.copy())\n",
        "\n",
        "        #because sugeno needs accendent order\n",
        "        weights.reverse()\n",
        "        feature_maps.reverse()\n",
        "        feature_maps = np.array(feature_maps)\n",
        "\n",
        "        summary = np.zeros(self.input_shape)\n",
        "\n",
        "        if self.measure.__name__  in ['additive_measure', 'possibility_measure','distorted_measure']:\n",
        "            for k in range(0, len(weights)):\n",
        "                summary = np.stack((summary, np.stack((np.full(self.input_shape, weights[k]), self.measure(feature_maps[k:])), axis=0 ).min(0)), axis=0).max(0)\n",
        "            return summary\n",
        "\n",
        "        else:\n",
        "            raise ValueError('Not appropriate measure for Sugeno integral!')\n",
        "            return summary\n",
        "\n",
        "    def fuse(self, aggregation_function='choquet', measure=None):\n",
        "        \"\"\"Creates final fused image\n",
        "        Aggregation function: - expected values = ['choquet', 'own', 'sugeno']\n",
        "        \"\"\"          \n",
        "\n",
        "        if not aggregation_function in ['choquet', 'own', 'sugeno']:\n",
        "            raise ValueError('Not appropriate aggregation function name!')\n",
        "\n",
        "        if not measure in ['additive', 'average', 'possibility','distorted']:\n",
        "            raise ValueError('Not appropriate measure name!')\n",
        "\n",
        "        if measure == 'additive' or measure == 'distorted':\n",
        "            self.mul_coef = self.feature_maps.sum(0)\n",
        "        elif measure == 'average':\n",
        "            self.mul_coef = 1\n",
        "        elif measure == 'possibility':\n",
        "            self.mul_coef = self.feature_maps.max(0)\n",
        "        \n",
        "        self.feature_maps = self.feature_maps / self.mul_coef \n",
        "        \n",
        "        self.aggregation_function=getattr(self, aggregation_function+'_integral')\n",
        "        self.measure=getattr(self, measure+'_measure')\n",
        "        \n",
        "        agr = self.aggregation_function()\n",
        "\n",
        "        self.feature_maps = self.feature_maps * self.mul_coef \n",
        "        agr = agr * self.mul_coef\n",
        "\n",
        "        return agr\n"
      ],
      "metadata": {
        "id": "V5Q8vd0JY8in"
      },
      "execution_count": null,
      "outputs": []
    },
    {
      "cell_type": "code",
      "source": [
        "entropy_fmfs = {}\n",
        "lossdev_fmfs = {}\n",
        "\n",
        "for idx in [9753, 145, 456, 51, 4, 8, 123, 17, 879, 212]:\n",
        "    foo = np.expand_dims(x_test[idx], axis=0)\n",
        "    bar = y_test[idx].reshape((1,10))\n",
        "    print(bar)\n",
        "    y_tensor = tf.convert_to_tensor(bar, dtype=tf.float32)\n",
        "\n",
        "\n",
        "    fmf_en = FeatureMapsFusion(input_image=foo, label=y_tensor, trained_model=model, weight_option='entropy')\n",
        "    # fmf_ld = FeatureMapsFusion(input_image=foo, label=y_tensor, trained_model=model, weight_option='loss_function_deviation', lfd_type_2=True)\n",
        "\n",
        "    entropy_fmfs[idx] = fmf_en\n",
        "    # lossdev_fmfs[idx] = fmf_ld"
      ],
      "metadata": {
        "id": "h9PXn72Ql67l",
        "colab": {
          "base_uri": "https://localhost:8080/"
        },
        "outputId": "dc86369c-655a-4053-ff81-c680623e95b2"
      },
      "execution_count": null,
      "outputs": [
        {
          "output_type": "stream",
          "name": "stdout",
          "text": [
            "[[1. 0. 0. 0. 0. 0. 0. 0. 0. 0.]]\n",
            "1/1 [==============================] - 0s 25ms/step - loss: 2.9023e-04 - accuracy: 1.0000\n",
            "using entropy\n",
            "weights normalization\n",
            "feature maps and weights sorting\n",
            "feature maps normalization\n",
            "[[0. 1. 0. 0. 0. 0. 0. 0. 0. 0.]]\n",
            "1/1 [==============================] - 0s 32ms/step - loss: 5.1342e-04 - accuracy: 1.0000\n"
          ]
        },
        {
          "output_type": "stream",
          "name": "stderr",
          "text": [
            "/usr/local/lib/python3.7/dist-packages/skimage/transform/_warps.py:178: UserWarning: Bi-quadratic interpolation behavior has changed due to a bug in the implementation of scikit-image. The new version now serves as a wrapper around SciPy's interpolation functions, which itself is not verified to be a correct implementation. Until skimage's implementation is fixed, we recommend to use bi-linear or bi-cubic interpolation instead.\n",
            "  preserve_range=preserve_range)\n"
          ]
        },
        {
          "output_type": "stream",
          "name": "stdout",
          "text": [
            "using entropy\n",
            "weights normalization\n",
            "feature maps and weights sorting\n",
            "feature maps normalization\n",
            "[[0. 0. 1. 0. 0. 0. 0. 0. 0. 0.]]\n",
            "1/1 [==============================] - 0s 36ms/step - loss: 5.5073e-05 - accuracy: 1.0000\n",
            "using entropy\n",
            "weights normalization\n",
            "feature maps and weights sorting\n",
            "feature maps normalization\n",
            "[[0. 0. 0. 1. 0. 0. 0. 0. 0. 0.]]\n",
            "1/1 [==============================] - 0s 41ms/step - loss: 1.1921e-07 - accuracy: 1.0000\n",
            "using entropy\n",
            "weights normalization\n",
            "feature maps and weights sorting\n",
            "feature maps normalization\n",
            "[[0. 0. 0. 0. 1. 0. 0. 0. 0. 0.]]\n",
            "1/1 [==============================] - 0s 28ms/step - loss: 1.1802e-05 - accuracy: 1.0000\n",
            "using entropy\n",
            "weights normalization\n",
            "feature maps and weights sorting\n",
            "feature maps normalization\n",
            "[[0. 0. 0. 0. 0. 1. 0. 0. 0. 0.]]\n",
            "1/1 [==============================] - 0s 26ms/step - loss: 0.0088 - accuracy: 1.0000\n",
            "using entropy\n",
            "weights normalization\n",
            "feature maps and weights sorting\n",
            "feature maps normalization\n",
            "[[0. 0. 0. 0. 0. 0. 1. 0. 0. 0.]]\n",
            "1/1 [==============================] - 0s 28ms/step - loss: 4.7684e-07 - accuracy: 1.0000\n",
            "using entropy\n",
            "weights normalization\n",
            "feature maps and weights sorting\n",
            "feature maps normalization\n",
            "[[0. 0. 0. 0. 0. 0. 0. 1. 0. 0.]]\n",
            "1/1 [==============================] - 0s 30ms/step - loss: 8.5830e-06 - accuracy: 1.0000\n",
            "using entropy\n",
            "weights normalization\n",
            "feature maps and weights sorting\n",
            "feature maps normalization\n",
            "[[0. 0. 0. 0. 0. 0. 0. 0. 1. 0.]]\n",
            "1/1 [==============================] - 0s 29ms/step - loss: 4.2915e-06 - accuracy: 1.0000\n",
            "using entropy\n",
            "weights normalization\n",
            "feature maps and weights sorting\n",
            "feature maps normalization\n",
            "[[0. 0. 0. 0. 0. 0. 0. 0. 0. 1.]]\n",
            "1/1 [==============================] - 0s 28ms/step - loss: 2.3842e-07 - accuracy: 1.0000\n",
            "using entropy\n",
            "weights normalization\n",
            "feature maps and weights sorting\n",
            "feature maps normalization\n"
          ]
        }
      ]
    },
    {
      "cell_type": "markdown",
      "source": [
        "**Workflow**"
      ],
      "metadata": {
        "id": "fo_eICyXeE9H"
      }
    },
    {
      "cell_type": "code",
      "source": [
        "\n",
        "\n",
        "def euklidean_distance(mask_A, mask_B):\n",
        "    return np.sqrt(np.sum((mask_A - mask_B)**2))\n",
        "\n",
        "def pearson_corr_coef(mask_A, mask_B): #masky aj histogramy\n",
        "    A_squared = mask_A **2 \n",
        "    B_squared = mask_B **2 \n",
        "    A_B = mask_A * mask_B\n",
        "\n",
        "    sigma_A_B = np.average(A_B) - np.average(mask_A) * np.average(mask_B)\n",
        "    sigma_A = np.sqrt(np.average(A_squared)-np.average(mask_A)**2)\n",
        "    sigma_B = np.sqrt(np.average(B_squared)-np.average(mask_B)**2)\n",
        "\n",
        "    return sigma_A_B / (sigma_A * sigma_B)\n",
        "\n",
        "def get_histogram(mask):\n",
        "    hist, _ = np.histogram(mask, bins=256, range=(0, 1))\n",
        "    return hist\n",
        "\n",
        "def auc_roc(mask_A, mask_B):\n",
        "    '''\n",
        "    Mask_A by mala byt ground truth.\n",
        "    sklearn.metrics.cm - Thus in binary classification, the count of true negatives is C_0_0, false negatives is C_1_0,  true positives is C_1_1 and false positives is C_0_1.\n",
        "    '''\n",
        "    roc_points = []\n",
        "    for threshold in range(1, 20):\n",
        "        threshold = threshold / 20\n",
        "        thres_A = mask_A > threshold\n",
        "        thres_B = mask_B > threshold\n",
        "\n",
        "        cm = metrics.confusion_matrix(thres_A.flatten(),thres_B.flatten())\n",
        "        tp, fp, tn, fn = cm[1][1], cm[0][1], cm[0][0], cm[1][0]\n",
        "\n",
        "        tpr = tp / (tp + fn)\n",
        "        fpr = fp / (fp + tn)\n",
        "\n",
        "        roc_points.append((fpr, tpr))\n",
        "\n",
        "    roc_points = sorted(roc_points, key=lambda x: x[0])\n",
        "    roc_points = [(0,0)] + roc_points + [(1,1)]\n",
        "\n",
        "    auc = 0\n",
        "\n",
        "    for idx in range(1, len(roc_points)):\n",
        "        x_diff = roc_points[idx][0] - roc_points[idx-1][0]\n",
        "        y_diff = roc_points[idx][1] - roc_points[idx-1][1]\n",
        "\n",
        "        auc = auc + (x_diff * roc_points[idx-1][1]) + ((x_diff * y_diff) / 2)\n",
        "\n",
        "    return auc\n",
        "\n",
        "def get_resutls_and_compare_them_all(entropy_fmfs, lossdev_fmfs, measure):\n",
        "\n",
        "    choq_ent, own_ent, sug_ent, choq_ld, own_ld, sug_ld = {}, {}, {}, {}, {}, {}\n",
        "\n",
        "    for exp in [choq_ent, own_ent, sug_ent, choq_ld, own_ld, sug_ld]:\n",
        "        exp['ed'] = []\n",
        "        exp['en'] = []\n",
        "        exp['pcch'] = [] \n",
        "        exp['pccm'] = []\n",
        "        exp['auc'] = []        \n",
        "\n",
        "    for key, value in entropy_fmfs.items():\n",
        "        print(\"obrazok: {}\".format(key))\n",
        "        for agg, my_dict in [('choquet',choq_ent),('own',own_ent),('sugeno',sug_ent)]:\n",
        "            result = value.fuse(aggregation_function=agg, measure=measure)           \n",
        "            max = np.max(result)\n",
        "            min = np.min(result)\n",
        "            result = (result - min) / (max - min)\n",
        "            \n",
        "            image = np.squeeze(x_test[key], axis=2)\n",
        "            image = cv2.cvtColor(image,cv2.COLOR_GRAY2RGB)\n",
        "            saliency = cv2.saliency.StaticSaliencySpectralResidual_create()\n",
        "            (success, saliencyMap) = saliency.computeSaliency(image)\n",
        "            saliencyMap = (saliencyMap * 255).astype(\"uint8\")\n",
        "            max = np.max(saliencyMap)\n",
        "            min = np.min(saliencyMap)\n",
        "            opencv_mask = (saliencyMap - min) / (max - min)\n",
        "\n",
        "            my_dict['ed'].append(euklidean_distance(opencv_mask, result))\n",
        "            my_dict['en'].append(skm.shannon_entropy(result))\n",
        "            my_dict['pcch'].append(pearson_corr_coef(get_histogram(opencv_mask), get_histogram(result)))\n",
        "            my_dict['pccm'].append(pearson_corr_coef(opencv_mask, result))\n",
        "            my_dict['auc'].append(auc_roc(opencv_mask, result))\n",
        "\n",
        "        # continue\n",
        "        sec_value = lossdev_fmfs[key]\n",
        "\n",
        "        for agg, my_dict in [('choquet',choq_ld),('own',own_ld),('sugeno',sug_ld)]:\n",
        "            result = sec_value.fuse(aggregation_function=agg, measure=measure)\n",
        "            max = np.max(result)\n",
        "            min = np.min(result)\n",
        "            result = (result - min) / (max - min)\n",
        "\n",
        "            image = np.squeeze(x_test[key], axis=2)\n",
        "            image = cv2.cvtColor(image,cv2.COLOR_GRAY2RGB)\n",
        "            saliency = cv2.saliency.StaticSaliencySpectralResidual_create()\n",
        "            (success, saliencyMap) = saliency.computeSaliency(image)\n",
        "            saliencyMap = (saliencyMap * 255).astype(\"uint8\")\n",
        "            max = np.max(saliencyMap)\n",
        "            min = np.min(saliencyMap)\n",
        "            opencv_mask = (saliencyMap - min) / (max - min)\n",
        "\n",
        "            my_dict['ed'].append(euklidean_distance(opencv_mask, result))\n",
        "            my_dict['en'].append(skm.shannon_entropy(result))\n",
        "            my_dict['pcch'].append(pearson_corr_coef(get_histogram(opencv_mask), get_histogram(result)))\n",
        "            my_dict['pccm'].append(pearson_corr_coef(opencv_mask, result))\n",
        "            my_dict['auc'].append(auc_roc(opencv_mask, result))\n",
        "\n",
        "    return choq_ent, own_ent, sug_ent, choq_ld, own_ld, sug_ld\n",
        "\n",
        "choq_ent, own_ent, sug_ent, choq_ld, own_ld, sug_ld = get_resutls_and_compare_them_all(entropy_fmfs, lossdev_fmfs, 'distorted')\n",
        "\n",
        "    \n",
        "# for measure in ['additive', 'average', 'possibility','distorted']:\n",
        "#     get_resutls_and_compare_them_all(entropy_fmfs, lossdev_fmfs, measure):"
      ],
      "metadata": {
        "colab": {
          "base_uri": "https://localhost:8080/"
        },
        "id": "HqiPSqMdeIPO",
        "outputId": "5393c369-93e0-4df4-f486-68bf02e9b47a"
      },
      "execution_count": null,
      "outputs": [
        {
          "output_type": "stream",
          "name": "stdout",
          "text": [
            "obrazok: 9753\n",
            "obrazok: 145\n",
            "obrazok: 456\n",
            "obrazok: 51\n",
            "obrazok: 4\n",
            "obrazok: 8\n",
            "obrazok: 123\n",
            "obrazok: 17\n",
            "obrazok: 879\n",
            "obrazok: 212\n"
          ]
        }
      ]
    },
    {
      "cell_type": "code",
      "source": [
        "def get_resutls_and_compare_them_all(fmf_en, original_image, agg_function, measure):\n",
        "\n",
        "    results = {}\n",
        "\n",
        "    for key in ['ed', 'pcch', 'pccm', 'auc']:\n",
        "        results[key] = []\n",
        "        results[key] = [] \n",
        "        results[key] = []\n",
        "        results[key] = []        \n",
        "\n",
        "    result = fmf_en.fuse(aggregation_function=agg_function, measure=measure)           \n",
        "    max = np.max(result)\n",
        "    min = np.min(result)\n",
        "    result = (result - min) / (max - min)\n",
        "    \n",
        "    image = np.squeeze(original_image, axis=2)\n",
        "    image = cv2.cvtColor(image,cv2.COLOR_GRAY2RGB)\n",
        "    saliency = cv2.saliency.StaticSaliencySpectralResidual_create()\n",
        "    (success, saliencyMap) = saliency.computeSaliency(image)\n",
        "    saliencyMap = (saliencyMap * 255).astype(\"uint8\")\n",
        "    max = np.max(saliencyMap)\n",
        "    min = np.min(saliencyMap)\n",
        "    opencv_mask = (saliencyMap - min) / (max - min)\n",
        "\n",
        "    results['ed'].append(euklidean_distance(opencv_mask, result))\n",
        "    results['pcch'].append(pearson_corr_coef(get_histogram(opencv_mask), get_histogram(result)))\n",
        "    results['pccm'].append(pearson_corr_coef(opencv_mask, result))\n",
        "    results['auc'].append(auc_roc(opencv_mask, result))\n",
        "\n",
        "    \n",
        "    return results\n",
        "\n",
        "resuults = get_resutls_and_compare_them_all(fmf_en, original_image, 'sugeno', 'distorted')"
      ],
      "metadata": {
        "id": "dLG1QsUAUKnH"
      },
      "execution_count": null,
      "outputs": []
    },
    {
      "cell_type": "code",
      "source": [
        "print(round(sum(choq_ld['ed'])/10, 6)) \n",
        "print(round(sum(choq_ld['en'])/10, 6)) \n",
        "print(round(sum(choq_ld['pcch'])/10, 6)) \n",
        "print(round(sum(choq_ld['pccm'])/10, 6)) \n",
        "print(round(sum(choq_ld['auc'])/10, 6)) "
      ],
      "metadata": {
        "colab": {
          "base_uri": "https://localhost:8080/"
        },
        "id": "h8rtJgwA8phu",
        "outputId": "b8c3d64a-e53e-47c3-9bf4-808c53b30974"
      },
      "execution_count": null,
      "outputs": [
        {
          "output_type": "stream",
          "name": "stdout",
          "text": [
            "5.657168\n",
            "6.861204\n",
            "0.220475\n",
            "0.696373\n",
            "0.895268\n"
          ]
        }
      ]
    },
    {
      "cell_type": "code",
      "source": [
        "result = {}\n",
        "result[145] = entropy_fmfs[145].fuse(aggregation_function='sugeno', measure='distorted')\n",
        "result[51]  = entropy_fmfs[51].fuse(aggregation_function='sugeno', measure='distorted')\n",
        "result[4]   = entropy_fmfs[4].fuse(aggregation_function='sugeno', measure='distorted')\n",
        "result[123] = entropy_fmfs[123].fuse(aggregation_function='sugeno', measure='distorted')\n",
        "result[879] = entropy_fmfs[879].fuse(aggregation_function='sugeno', measure='distorted')\n",
        "# [145, 51, 4, 123, 879]\n",
        "# result = {}\n",
        "# result[145] = np.squeeze(x_test[145], axis=2)\n",
        "# result[51]  = np.squeeze(x_test[51], axis=2)\n",
        "# result[4]   = np.squeeze(x_test[4], axis=2)\n",
        "# result[123] = np.squeeze(x_test[123], axis=2)\n",
        "# result[879] = np.squeeze(x_test[879], axis=2)\n",
        "\n",
        "\n",
        "# image = np.squeeze(x_test[9753], axis=2)\n",
        "# image = cv2.cvtColor(image,cv2.COLOR_GRAY2RGB)\n",
        "# saliency = cv2.saliency.StaticSaliencySpectralResidual_create()\n",
        "# (success, saliencyMap) = saliency.computeSaliency(image)\n",
        "# saliencyMap = (saliencyMap * 255).astype(\"uint8\")\n",
        "# max = np.max(saliencyMap)\n",
        "# min = np.min(saliencyMap)\n",
        "# opencv_mask = (saliencyMap - min) / (max - min)\n",
        "\n",
        "f, axarr = plt.subplots(1,5, figsize=(15, 3))\n",
        "axarr[0].imshow(result[145])\n",
        "# axarr[0].set_title(\"Opencv maska\")\n",
        "axarr[0].set_xticks([])\n",
        "axarr[0].set_yticks([])\n",
        "axarr[1].imshow(result[51])\n",
        "# axarr[1].set_title(\"Entropia a  Choquet\")\n",
        "axarr[1].set_xticks([])\n",
        "axarr[1].set_yticks([])\n",
        "axarr[2].imshow(result[4])\n",
        "# axarr[2].set_title(\"Entropia a vlastná\")\n",
        "axarr[2].set_xticks([])\n",
        "axarr[2].set_yticks([])\n",
        "axarr[3].imshow(result[123])\n",
        "# axarr[3].set_title(\"Entropia a Sugeno\")\n",
        "axarr[3].set_xticks([])\n",
        "axarr[3].set_yticks([])\n",
        "axarr[4].imshow(result[879])\n",
        "# axarr[4].set_title(\"Odchýlka lossu a Choquet\")\n",
        "axarr[4].set_xticks([])\n",
        "axarr[4].set_yticks([])\n",
        "# axarr[5].imshow(result_5)\n",
        "# axarr[5].set_title(\"Odchýlka lossu a vlastná\")\n",
        "# axarr[5].set_xticks([])\n",
        "# axarr[5].set_yticks([])\n",
        "# axarr[6].imshow(result_6)\n",
        "# axarr[6].set_title(\"Odchýlka lossu a Sugeno\")\n",
        "# axarr[6].set_xticks([])\n",
        "# axarr[6].set_yticks([])\n",
        "# print(measure.shannon_entropy(result_6))"
      ],
      "metadata": {
        "id": "qwRQl3Nqjaru",
        "colab": {
          "base_uri": "https://localhost:8080/",
          "height": 196
        },
        "outputId": "eb4873f7-ed81-4739-b53d-cca7acd4e1b2"
      },
      "execution_count": null,
      "outputs": [
        {
          "output_type": "execute_result",
          "data": {
            "text/plain": [
              "[]"
            ]
          },
          "metadata": {},
          "execution_count": 13
        },
        {
          "output_type": "display_data",
          "data": {
            "text/plain": [
              "<Figure size 1080x216 with 5 Axes>"
            ],
            "image/png": "[encoded data removed]"
          },
          "metadata": {}
        }
      ]
    },
    {
      "cell_type": "code",
      "source": [
        "result = {}\n",
        "result[145] = entropy_fmfs[145].fuse(aggregation_function='sugeno', measure='distorted')\n",
        "result[51]  = entropy_fmfs[51].fuse(aggregation_function='sugeno', measure='distorted')\n",
        "result[4]   = entropy_fmfs[4].fuse(aggregation_function='sugeno', measure='distorted')\n",
        "result[123] = entropy_fmfs[123].fuse(aggregation_function='sugeno', measure='distorted')\n",
        "result[879] = entropy_fmfs[879].fuse(aggregation_function='sugeno', measure='distorted')\n",
        "\n",
        "f, axarr = plt.subplots(1,5, figsize=(15, 3))\n",
        "axarr[0].imshow(result[145])\n",
        "axarr[0].set_xticks([])\n",
        "axarr[0].set_yticks([])\n",
        "axarr[1].imshow(result[51])\n",
        "axarr[1].set_xticks([])\n",
        "axarr[1].set_yticks([])\n",
        "axarr[2].imshow(result[4])\n",
        "axarr[2].set_xticks([])\n",
        "axarr[2].set_yticks([])\n",
        "axarr[3].imshow(result[123])\n",
        "axarr[3].set_xticks([])\n",
        "axarr[3].set_yticks([])\n",
        "axarr[4].imshow(result[879])\n",
        "axarr[4].set_xticks([])\n",
        "axarr[4].set_yticks([])"
      ],
      "metadata": {
        "id": "i1h03LgBRdt9"
      },
      "execution_count": null,
      "outputs": []
    }
  ]
}